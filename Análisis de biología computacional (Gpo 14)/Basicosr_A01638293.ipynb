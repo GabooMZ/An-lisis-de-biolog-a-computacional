{
 "cells": [
  {
   "cell_type": "markdown",
   "id": "9439958f",
   "metadata": {},
   "source": [
    "## 1.\tCrear un vector x con los datos 10, 11, 13, −1, 6,3"
   ]
  },
  {
   "cell_type": "code",
   "execution_count": 1,
   "id": "b36b286a",
   "metadata": {},
   "outputs": [
    {
     "ename": "NameError",
     "evalue": "name 'x' is not defined",
     "output_type": "error",
     "traceback": [
      "\u001b[1;31m---------------------------------------------------------------------------\u001b[0m",
      "\u001b[1;31mNameError\u001b[0m                                 Traceback (most recent call last)",
      "\u001b[1;32m~\\AppData\\Local\\Temp\\ipykernel_14080\\3283672833.py\u001b[0m in \u001b[0;36m<module>\u001b[1;34m\u001b[0m\n\u001b[1;32m----> 1\u001b[1;33m \u001b[0mx\u001b[0m \u001b[1;33m<\u001b[0m\u001b[1;33m-\u001b[0m \u001b[0mc\u001b[0m\u001b[1;33m(\u001b[0m\u001b[1;36m10\u001b[0m\u001b[1;33m,\u001b[0m\u001b[1;36m11\u001b[0m\u001b[1;33m,\u001b[0m\u001b[1;36m13\u001b[0m\u001b[1;33m,\u001b[0m\u001b[1;33m-\u001b[0m\u001b[1;36m1\u001b[0m\u001b[1;33m,\u001b[0m\u001b[1;36m6\u001b[0m\u001b[1;33m,\u001b[0m\u001b[1;36m3\u001b[0m\u001b[1;33m)\u001b[0m\u001b[1;33m\u001b[0m\u001b[1;33m\u001b[0m\u001b[0m\n\u001b[0m\u001b[0;32m      2\u001b[0m \u001b[0mx\u001b[0m\u001b[1;33m\u001b[0m\u001b[1;33m\u001b[0m\u001b[0m\n",
      "\u001b[1;31mNameError\u001b[0m: name 'x' is not defined"
     ]
    }
   ],
   "source": [
    "x <- c(10,11,13,-1,6,3)\n",
    "x"
   ]
  },
  {
   "cell_type": "markdown",
   "id": "0212f9bc",
   "metadata": {},
   "source": [
    "## 2.\tCalcula estadísticas simples de x. Calcular la media, la desviación estándar y la varianza. Crear un objeto (vector) con el nombre est.x en el que guardar los 3 estadísticos."
   ]
  },
  {
   "cell_type": "code",
   "execution_count": 2,
   "id": "411ce10d",
   "metadata": {},
   "outputs": [
    {
     "data": {
      "text/html": [
       "7"
      ],
      "text/latex": [
       "7"
      ],
      "text/markdown": [
       "7"
      ],
      "text/plain": [
       "[1] 7"
      ]
     },
     "metadata": {},
     "output_type": "display_data"
    },
    {
     "data": {
      "text/html": [
       "5.32916503778969"
      ],
      "text/latex": [
       "5.32916503778969"
      ],
      "text/markdown": [
       "5.32916503778969"
      ],
      "text/plain": [
       "[1] 5.329165"
      ]
     },
     "metadata": {},
     "output_type": "display_data"
    },
    {
     "data": {
      "text/html": [
       "28.4"
      ],
      "text/latex": [
       "28.4"
      ],
      "text/markdown": [
       "28.4"
      ],
      "text/plain": [
       "[1] 28.4"
      ]
     },
     "metadata": {},
     "output_type": "display_data"
    }
   ],
   "source": [
    "media <- mean(x)\n",
    "media\n",
    "std <- sd(x)\n",
    "std\n",
    "varianza <- var(x)\n",
    "varianza"
   ]
  },
  {
   "cell_type": "markdown",
   "id": "a8c0bc1d",
   "metadata": {},
   "source": [
    "## 3.\tEscribe un programa R para crear una secuencia de números del 20 al 50 y encuentre la media de los números del 20 al 60 y la suma de los números del 51 al 91. Tip: utiliza las funciones de R."
   ]
  },
  {
   "cell_type": "markdown",
   "id": "c5bf46b7",
   "metadata": {},
   "source": []
  }
 ],
 "metadata": {
  "kernelspec": {
   "display_name": "Python 3 (ipykernel)",
   "language": "python",
   "name": "python3"
  },
  "language_info": {
   "codemirror_mode": {
    "name": "ipython",
    "version": 3
   },
   "file_extension": ".py",
   "mimetype": "text/x-python",
   "name": "python",
   "nbconvert_exporter": "python",
   "pygments_lexer": "ipython3",
   "version": "3.9.12"
  }
 },
 "nbformat": 4,
 "nbformat_minor": 5
}
